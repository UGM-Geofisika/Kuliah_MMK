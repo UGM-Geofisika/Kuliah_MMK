{
 "cells": [
  {
   "cell_type": "markdown",
   "metadata": {},
   "source": [
    "# Kinematika benda kontinyu"
   ]
  },
  {
   "cell_type": "markdown",
   "metadata": {},
   "source": [
    "Setelah tuntas dengan pembahasan mengenati konsep vektor dan tensor, kita akan mulai membicarakan tentang mekanika medium kontinyu. Secara spesifik, kita akan membahas mengenai kinematika benda kontinyu. Sebuah benda yang tersusun atas partikel-partikel yang dibatasi oleh ruang (konfigurasi) atau tersusun atas volume-volume benda yang sangat kecil yang membentuk volume benda secara keseluruhan.\n",
    "\n",
    "Bagaimanakah kita mendefinisikan gerak dari benda kontinyu tersebut?\n",
    "\n",
    "Ada 4 topik pembahasan dalam hal ini, yaitu:\n",
    "1. Gerak dan deformasi benda\n",
    "2. Deskripsi gerak (deformasi, kecepatan dan percepatan) secara Lagrangian\n",
    "3. Deskripsi gerak (deformasi, kecepatan dan percepatan) secara Eulerian\n",
    "4. Turunan (derivatif) terhadap waktu dari material (*Material time derivative*)\n",
    "\n",
    "![](https://www.researchgate.net/profile/Jibran_Haider/publication/327052023/figure/fig3/AS:666509319868438@1535919613462/Motion-of-a-continuum-body.png)"
   ]
  },
  {
   "cell_type": "markdown",
   "metadata": {},
   "source": [
    "## Deskripsi gerak sebuah benda kontinyu\n",
    "\n",
    "Pada kinematika partikel, posisi partikel, $P$ dinyatakan dengan sebuah vektor yang merupakan fungsi waktu, $t$\n",
    "\n",
    "\n"
   ]
  },
  {
   "cell_type": "markdown",
   "metadata": {},
   "source": [
    "## Konfigurasi\n",
    "\n",
    "Perhatikan bahwa benda kontinyu tersebut berada pada sebuah ruang koordinat tertentu, misalnya $x, y, z$"
   ]
  },
  {
   "cell_type": "code",
   "execution_count": 22,
   "metadata": {},
   "outputs": [
    {
     "data": {
      "text/plain": [
       "[<matplotlib.lines.Line2D at 0x20802c96358>]"
      ]
     },
     "execution_count": 22,
     "metadata": {},
     "output_type": "execute_result"
    }
   ],
   "source": [
    "plt.plot(t,y)"
   ]
  },
  {
   "cell_type": "markdown",
   "metadata": {},
   "source": [
    "![](https://www.researchgate.net/profile/Jibran_Haider/publication/327052023/figure/fig2/AS:666509319864320@1535919613428/Lagrangian-and-Eulerian-frameworks.png)"
   ]
  },
  {
   "cell_type": "code",
   "execution_count": null,
   "metadata": {},
   "outputs": [],
   "source": []
  }
 ],
 "metadata": {
  "kernelspec": {
   "display_name": "Python 3",
   "language": "python",
   "name": "python3"
  },
  "language_info": {
   "codemirror_mode": {
    "name": "ipython",
    "version": 3
   },
   "file_extension": ".py",
   "mimetype": "text/x-python",
   "name": "python",
   "nbconvert_exporter": "python",
   "pygments_lexer": "ipython3",
   "version": "3.6.4"
  }
 },
 "nbformat": 4,
 "nbformat_minor": 2
}
