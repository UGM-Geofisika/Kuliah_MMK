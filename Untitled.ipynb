{
 "cells": [
  {
   "cell_type": "markdown",
   "metadata": {},
   "source": [
    "# Kinematika benda kontinyu"
   ]
  },
  {
   "cell_type": "markdown",
   "metadata": {},
   "source": [
    "Setelah tuntas dengan pembahasan mengenati konsep vektor dan tensor, kita akan mulai membicarakan tentang mekanika medium kontinyu. Secara spesifik, kita akan membahas mengenai kinematika benda kontinyu. Sebuah benda yang tersusun atas partikel-partikel yang dibatasi oleh ruang (konfigurasi) atau tersusun atas volume-volume benda yang sangat kecil yang membentuk volume benda secara keseluruhan.\n",
    "\n",
    "Bagaimanakah kita mendefinisikan gerak dari benda kontinyu tersebut?\n",
    "\n",
    "Ada 4 topik pembahasan dalam hal ini, yaitu:\n",
    "1. Gerak dan deformasi benda\n",
    "2. Deskripsi gerak (deformasi, kecepatan dan percepatan) secara Lagrangian\n",
    "3. Deskripsi gerak (deformasi, kecepatan dan percepatan) secara Eulerian\n",
    "4. Turunan (derivatif) terhadap waktu dari material (*Material time derivative*)\n",
    "\n",
    "![](https://www.researchgate.net/profile/Jibran_Haider/publication/327052023/figure/fig3/AS:666509319868438@1535919613462/Motion-of-a-continuum-body.png)"
   ]
  },
  {
   "cell_type": "markdown",
   "metadata": {},
   "source": [
    "## Deskripsi gerak sebuah benda kontinyu\n",
    "\n",
    "Pada kinematika partikel, posisi partikel, $P$ dinyatakan dengan sebuah vektor yang merupakan fungsi waktu, $t$\n",
    "\n",
    "\\begin{align}\n",
    "\\vec{r}=\\vec{r}(t),\n",
    "\\end{align}\n",
    "\n",
    "dengan $\\vec{r}(t)=x_1(t)\\hat{e}_1+x_2(t)\\hat{e}_2+x_3(t)\\hat{e}_3$ adalah vektor posisi. Jadi, komponen dari vektor $\\vec{r}(t)$ adalah:\n",
    "\\begin{align}\n",
    "x_1 = x_1(t), x_2 = x_2(t), x_3 = x_3(t).  \n",
    "\\end{align}\n",
    "\n",
    "Jika benda kontinyu anggaplah tersusun atas $N$ buah partikel, maka akan ada N posisi partikel, masing-masing dinyatakan dalam \n",
    "\\begin{align}\n",
    "\\vec{r}_n=\\vec{r}_n(t), n = 1, 2, 3, ..., N.\n",
    "\\end{align}\n",
    "\n",
    "Sehingga untuk partikel nomer 1, vektor posisinya adalah $\\vec{r}_1(t)$, partikel nomer 2 yaitu $\\vec{r}_2(t)$ dan seterusnya.\n",
    "\n",
    "Untuk sebuah benda kontinyu, yang tersusun atas tak berhingga partikel, maka tidaklah mungkin posisi masing-masing partikel, seperti pada kajian kinematika partikel diatas. Namun demikian, kita masih dapat mengidentifikasi posisi dari bagian terluar dari sekumpulan partikel tersebut (seolah-olah wadahnya partikel).\n",
    "\n",
    "![](Gambar/motion.png)\n",
    "\n",
    "Perhatikan gambar diatas, bagian terluar yang melingkupi partikel-partikel penyusun benda dibatasi oleh $\\Gamma$.\n",
    "\n",
    "Vektor posisi dari \"wadah\" partikel dapat diidentifikasi pada saat $t, P(t)$, relatif terhadap waktu referensi, $t_0, P(t_0)$ \n",
    "![](Gambar/frame.png)\n",
    "\n",
    "Sebagai cotoh, jika sebuah partikel penyusun benda kontinyu berada pada posisi (1,2,3) pada saat t = 0, maka satu set koordinat (1,2,3) tersebut dapat digunakan untuk mengidentifikasi partikel tersebut. Jika posisi partikel pada (X1,X2,X3) saat t0, maka satu set koordinat (X1, X2, X3) dapat dipakai untuk mengidentifikasi partikel ini. Jadi secara umum, garis lintasan setiap partikel yang terletak pada benda kontinyu dapat dijelaskan menggunakan persaman vektor dalam bentuk\n",
    "\n",
    "\\begin{align}\n",
    "\\vec{x} = \\vec(x)(\\vec{X},t) dengan \\vec{X} = \\vec(x)(\\vec{X},t_0) .  \n",
    "\\end{align}"
   ]
  },
  {
   "cell_type": "markdown",
   "metadata": {},
   "source": [
    "## Konfigurasi\n",
    "\n",
    "Perhatikan bahwa benda kontinyu tersebut berada pada sebuah ruang koordinat tertentu, misalnya $x, y, z$"
   ]
  },
  {
   "cell_type": "code",
   "execution_count": 22,
   "metadata": {},
   "outputs": [
    {
     "data": {
      "text/plain": [
       "[<matplotlib.lines.Line2D at 0x20802c96358>]"
      ]
     },
     "execution_count": 22,
     "metadata": {},
     "output_type": "execute_result"
    }
   ],
   "source": [
    "plt.plot(t,y)"
   ]
  },
  {
   "cell_type": "markdown",
   "metadata": {},
   "source": [
    "![](https://www.researchgate.net/profile/Jibran_Haider/publication/327052023/figure/fig2/AS:666509319864320@1535919613428/Lagrangian-and-Eulerian-frameworks.png)"
   ]
  },
  {
   "cell_type": "code",
   "execution_count": null,
   "metadata": {},
   "outputs": [],
   "source": []
  }
 ],
 "metadata": {
  "kernelspec": {
   "display_name": "Python 2",
   "language": "python",
   "name": "python2"
  },
  "language_info": {
   "codemirror_mode": {
    "name": "ipython",
    "version": 2
   },
   "file_extension": ".py",
   "mimetype": "text/x-python",
   "name": "python",
   "nbconvert_exporter": "python",
   "pygments_lexer": "ipython2",
   "version": "2.7.15"
  }
 },
 "nbformat": 4,
 "nbformat_minor": 2
}
