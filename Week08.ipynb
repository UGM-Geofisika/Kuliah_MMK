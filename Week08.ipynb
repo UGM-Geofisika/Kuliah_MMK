{
 "cells": [
  {
   "cell_type": "markdown",
   "metadata": {},
   "source": [
    "# Stress dan Formulasi dari Prinsip Prinsip Utama MMK"
   ]
  },
  {
   "cell_type": "markdown",
   "metadata": {},
   "source": [
    "> Sebelum UTS kita telah belajar deskripsi gerak benda kontinyu, secara kinematika tanpa mempertimbangkan gaya yang menyebabkan terjadinya gerak atau deformasi benda kontinyu.\n",
    "\n",
    "Untuk itu, kita sekarang akan melibatkan gaya dengan cara mendeskripsikan gaya-gaya yang bekerja pada interior benda kontinyu yang tersusun atas molekul, dimana molekul tersusun atas atom-atom atau partikel sub-atomic. Dengan demikian gaya-gaya yang bekerja pada interior benda padat ya akibat interaksi partikel-partikel ini.\n",
    "\n",
    "> Pada teori MMK klasik (*classical continuum theory*), material penyusun benda diasumsikan terdistribusi secara kontinyu, dan gaya-gaya yang bekerja pada masing-masing titik di dalam benda dijelaskan melalui konsep:  \n",
    "- __Gaya Badan__ (*body forces*), gaya yang bekerja pada keseluruhan volume benda yang merupakan interaksi materi dan muatan (gaya gravitasi, gaya elektrostatik dll.). \n",
    "- __Gaya Permukaan__ (*surface forces*), gaya yang bekerja pada sebuah permukaan (bisa nyata atau imaginer) yang memisahkan bagian-bagian dari benda."
   ]
  },
  {
   "cell_type": "markdown",
   "metadata": {},
   "source": [
    "Gaya permukaan pada sebuah titik di sebuah permukaan akan didefinisikan melalui sebuah stress vektor (*vector stress*), tanpa memperhatikan kelengkungan dari permukaannya. Asumsi seperti ini disebut dengan prinsip stress Cauchy (*Cauchy's stress principle*), salah satu aksioma dasar di dalam MMK. "
   ]
  },
  {
   "cell_type": "markdown",
   "metadata": {},
   "source": [
    "### Vektor Stress"
   ]
  },
  {
   "cell_type": "markdown",
   "metadata": {},
   "source": [
    "Perhatikan gambar di bawah ini:\n",
    "\n",
    "![](./Gambar/vector_stress.png)"
   ]
  },
  {
   "cell_type": "markdown",
   "metadata": {},
   "source": [
    "Perhatikan gambar diatas, jika benda sebelah kiri dibelah menjadi 2, membentuk permukaan $S$ yang memisahkan kedua bagian benda, yaitu bagian $I$ dan bagian $II$ yang terdapat vektor normal satuan. Kita bisa meninjau gaya permukaan yang bekerja pada benda $I$ di titik $P$ pada permukaan $S$, yang memiliki vektor satuan normal $\\mathbf{n}$."
   ]
  },
  {
   "cell_type": "markdown",
   "metadata": {},
   "source": [
    "Pada bidang $S$ akan terdapat resultan gaya $\\Delta \\mathbf{F}$ yang bekerja pada luasan kecil $\\Delta A$ dimana titik $P$ berada.\n",
    "\n",
    "Kita definisikan vektor stress (yang bekerja dari $II$ ke $I$), di titik $P$ pada bidang $S$, sebagai limit rasio antara $\\Delta \\mathbf{F} / \\Delta A$ dengan $\\Delta A$ $\\rightarrow 0$. Yaitu, $\\mathbf{t_n}$ menyatakan vektor stress:\n",
    "\n",
    "$$\\mathbf{t_n}=\\lim_{\\Delta A \\to 0} \\dfrac{\\Delta \\mathbf{F}}{\\Delta A}$$"
   ]
  },
  {
   "cell_type": "code",
   "execution_count": null,
   "metadata": {},
   "outputs": [],
   "source": []
  }
 ],
 "metadata": {
  "kernelspec": {
   "display_name": "Python 3",
   "language": "python",
   "name": "python3"
  },
  "language_info": {
   "codemirror_mode": {
    "name": "ipython",
    "version": 3
   },
   "file_extension": ".py",
   "mimetype": "text/x-python",
   "name": "python",
   "nbconvert_exporter": "python",
   "pygments_lexer": "ipython3",
   "version": "3.7.6"
  }
 },
 "nbformat": 4,
 "nbformat_minor": 4
}
